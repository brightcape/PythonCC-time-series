{
 "cells": [
  {
   "cell_type": "code",
   "execution_count": null,
   "id": "89965df5-8005-46ea-b6b6-7edd47ade356",
   "metadata": {},
   "outputs": [],
   "source": [
    "import pandas as pd\n",
    "import numpy as np\n",
    "from datetime import datetime\n",
    "import matplotlib.pyplot as plt"
   ]
  },
  {
   "cell_type": "markdown",
   "id": "5edd2265-832d-42aa-8243-0e467959c6ba",
   "metadata": {
    "tags": [],
    "toc-hr-collapsed": true
   },
   "source": [
    "# Quick recap: How to use Dates & Times with pandas"
   ]
  },
  {
   "cell_type": "markdown",
   "id": "ac30f040-4d62-470e-a290-ebc22f37f480",
   "metadata": {},
   "source": [
    "## Basic building block: `pd.Timestamp`"
   ]
  },
  {
   "cell_type": "code",
   "execution_count": null,
   "id": "5fe8eb48-5ddc-4864-8333-a296ea6b3ee6",
   "metadata": {},
   "outputs": [],
   "source": [
    "time_stamp = pd.Timestamp(datetime(2022, 12, 12))\n",
    "time_stamp"
   ]
  },
  {
   "cell_type": "markdown",
   "id": "64ac3e11-4997-43e9-85e9-4efc58a0b34a",
   "metadata": {},
   "source": [
    "Attributes to store time-specific information"
   ]
  },
  {
   "cell_type": "code",
   "execution_count": null,
   "id": "475cb09a-b054-43fc-a944-d37824b39f6f",
   "metadata": {},
   "outputs": [],
   "source": [
    "time_stamp.year"
   ]
  },
  {
   "cell_type": "code",
   "execution_count": null,
   "id": "0909102b-0e66-4daa-903e-903dddbb33a2",
   "metadata": {},
   "outputs": [],
   "source": [
    "time_stamp.day_name()"
   ]
  },
  {
   "cell_type": "markdown",
   "id": "1f98396d-a5cf-4dae-b5ab-d38592c10659",
   "metadata": {},
   "source": [
    "## More building blocks: `pd.Period` and `freq`"
   ]
  },
  {
   "cell_type": "code",
   "execution_count": null,
   "id": "f8ae7abd-1103-4baf-9938-3bafbce2feaa",
   "metadata": {},
   "outputs": [],
   "source": [
    "period = pd.Period(\"2017-01\")\n",
    "period"
   ]
  },
  {
   "cell_type": "markdown",
   "id": "7192f517-a6ce-4526-ab27-a1b153c3d5f7",
   "metadata": {},
   "source": [
    "Period object has freq attribute to store frequency info"
   ]
  },
  {
   "cell_type": "code",
   "execution_count": null,
   "id": "5476cfae-f9fc-4ef3-acd7-9335ac762b81",
   "metadata": {},
   "outputs": [],
   "source": [
    "# convert to daily\n",
    "period.asfreq(\"D\")"
   ]
  },
  {
   "cell_type": "markdown",
   "id": "97b93631-8ba0-4b0f-84b7-fa9a9465fc45",
   "metadata": {},
   "source": [
    "Convert Period to Timestamp and back"
   ]
  },
  {
   "cell_type": "code",
   "execution_count": null,
   "id": "752fecd5-0675-4021-99cb-de04a21a20cc",
   "metadata": {},
   "outputs": [],
   "source": [
    "period.to_timestamp()"
   ]
  },
  {
   "cell_type": "code",
   "execution_count": null,
   "id": "296ca72a-a81c-4a97-95b4-d5267807902d",
   "metadata": {},
   "outputs": [],
   "source": [
    "period.to_timestamp().to_period(\"M\")"
   ]
  },
  {
   "cell_type": "markdown",
   "id": "5b4cb495-bf6f-4cd6-ab0c-4787188662a2",
   "metadata": {},
   "source": [
    "Frequency info enables basic arithmetic"
   ]
  },
  {
   "cell_type": "code",
   "execution_count": null,
   "id": "57e65f8b-5d6a-427e-9deb-effd3421c800",
   "metadata": {},
   "outputs": [],
   "source": [
    "period + 2"
   ]
  },
  {
   "cell_type": "markdown",
   "id": "900a0659-9f5d-4c14-94c1-dc6c55506d95",
   "metadata": {},
   "source": [
    "## Sequences of Dates & Times"
   ]
  },
  {
   "cell_type": "code",
   "execution_count": null,
   "id": "f9ddb62a-9656-4f2b-b85a-85bdd2ebfe1e",
   "metadata": {},
   "outputs": [],
   "source": [
    "index = pd.date_range(start=\"2022-1-1\", periods=12, freq=\"M\")\n",
    "index"
   ]
  },
  {
   "cell_type": "markdown",
   "id": "02edff40-277d-4533-b36d-fd298385214f",
   "metadata": {},
   "source": [
    "`DateTimeIndex`: sequency of `Timestamp` objects with frequency info"
   ]
  },
  {
   "cell_type": "code",
   "execution_count": null,
   "id": "f4cc420d-5fbb-4da3-b3a1-c045d62fef47",
   "metadata": {},
   "outputs": [],
   "source": [
    "index[0]"
   ]
  },
  {
   "cell_type": "code",
   "execution_count": null,
   "id": "45ccad69-ed32-4353-8736-a30d1d9a4aca",
   "metadata": {},
   "outputs": [],
   "source": [
    "# index as monthly period to plot monthly aggregates\n",
    "index.to_period()"
   ]
  },
  {
   "cell_type": "markdown",
   "id": "7b98b08f-dd52-4007-ac55-037978364451",
   "metadata": {
    "tags": [],
    "toc-hr-collapsed": true
   },
   "source": [
    "# Indexing & resampling time series"
   ]
  },
  {
   "cell_type": "markdown",
   "id": "e921450b-f1b8-4b99-9d15-2bb5d18b4d36",
   "metadata": {},
   "source": [
    "## Let's load some data"
   ]
  },
  {
   "cell_type": "code",
   "execution_count": null,
   "id": "4c00067f-f8ff-46a4-9e4c-b50447418235",
   "metadata": {},
   "outputs": [],
   "source": [
    "ts = pd.read_csv(\"AAPL.csv\", index_col=\"Date\",  parse_dates=True)\n",
    "ts.info()"
   ]
  },
  {
   "cell_type": "code",
   "execution_count": null,
   "id": "8f7be76d-35d9-4ebc-b7eb-798238331b28",
   "metadata": {},
   "outputs": [],
   "source": [
    "ts.head()"
   ]
  },
  {
   "cell_type": "code",
   "execution_count": null,
   "id": "ceca874d-9f6b-4cab-8f03-857f2995ff85",
   "metadata": {},
   "outputs": [],
   "source": [
    "ts.plot(y=\"Close\", title=\"Apple stock closing price\");"
   ]
  },
  {
   "cell_type": "markdown",
   "id": "ec33b5cf-02d5-46a9-9d41-fd2a60e76d11",
   "metadata": {},
   "source": [
    "## Splitting TS by date"
   ]
  },
  {
   "cell_type": "markdown",
   "id": "8c068338-b59d-404f-ac2a-4b63c70ce37a",
   "metadata": {},
   "source": [
    "Select all data for 2018"
   ]
  },
  {
   "cell_type": "code",
   "execution_count": null,
   "id": "5022e5f7-7103-4395-959e-a9424b1a0fe6",
   "metadata": {},
   "outputs": [],
   "source": [
    "# Approach 1\n",
    "ts[ts.index.year == 2018]"
   ]
  },
  {
   "cell_type": "code",
   "execution_count": null,
   "id": "5fe3402d-9092-479d-acf5-fe72b6975dec",
   "metadata": {},
   "outputs": [],
   "source": [
    "# Approch 2, less verbose\n",
    "ts[\"2018\"]"
   ]
  },
  {
   "cell_type": "markdown",
   "id": "ea132f4a-1ee8-4cc9-8552-d69aab8c351c",
   "metadata": {},
   "source": [
    "Selecting only data from summer months of 2018"
   ]
  },
  {
   "cell_type": "code",
   "execution_count": null,
   "id": "350a86e7-a9aa-4081-95e7-a2dea1ebfcd6",
   "metadata": {},
   "outputs": [],
   "source": [
    "# the verbose way...\n",
    "ts[(ts.index >= \"2018-6\") & (ts.index <= \"2018-9\")]"
   ]
  },
  {
   "cell_type": "code",
   "execution_count": null,
   "id": "5000a5b5-6a82-461f-90f7-84ed37e98362",
   "metadata": {},
   "outputs": [],
   "source": [
    "# ... the concise way. Slicing includes last month unlike Python slicing\n",
    "ts[\"2018-6\" : \"2018-8\"]"
   ]
  },
  {
   "cell_type": "code",
   "execution_count": null,
   "id": "3eb0f770-f209-4afc-ba87-8ca57221441b",
   "metadata": {},
   "outputs": [],
   "source": [
    "# This also works\n",
    "ts[\"2018-6\":]"
   ]
  },
  {
   "cell_type": "markdown",
   "id": "47fdcef3-f5aa-4b21-aa6f-6615c2324cc6",
   "metadata": {},
   "source": [
    "## Changing frequency"
   ]
  },
  {
   "cell_type": "code",
   "execution_count": null,
   "id": "59f5a6f5-c90d-446b-9561-393521b7e1d4",
   "metadata": {},
   "outputs": [],
   "source": [
    "ts.head()"
   ]
  },
  {
   "cell_type": "code",
   "execution_count": null,
   "id": "f9f2e26f-5d01-4bcc-ae12-0587048bab43",
   "metadata": {},
   "outputs": [],
   "source": [
    "ts.index"
   ]
  },
  {
   "cell_type": "markdown",
   "id": "c598745c-424f-4b53-a32f-4cc75d057b10",
   "metadata": {},
   "source": [
    "**Upsampling** - higher frequency implies new dates -> missing data"
   ]
  },
  {
   "cell_type": "code",
   "execution_count": null,
   "id": "39bfd5af-1653-47ee-a72d-71fdf8cca830",
   "metadata": {},
   "outputs": [],
   "source": [
    "# Set daily frequency\n",
    "ts_daily = ts.asfreq(\"D\").head()\n",
    "ts_daily"
   ]
  },
  {
   "cell_type": "code",
   "execution_count": null,
   "id": "a34fe1ad-a31e-4c37-ac47-45d9fb70c3cd",
   "metadata": {},
   "outputs": [],
   "source": [
    "ts_daily.index"
   ]
  },
  {
   "cell_type": "markdown",
   "id": "f5842f83-ee6d-47e6-bf16-e38b3dd75361",
   "metadata": {},
   "source": [
    "Options to impute missing data: mean,media, last value"
   ]
  },
  {
   "cell_type": "code",
   "execution_count": null,
   "id": "8430157f-87f9-4af8-955b-118cfeaf97e4",
   "metadata": {},
   "outputs": [],
   "source": [
    "ts.asfreq(\"D\").ffill().head()"
   ]
  },
  {
   "cell_type": "markdown",
   "id": "d6033e99-3d94-488e-9285-decf004b0703",
   "metadata": {},
   "source": [
    "Why changing TS frequency relevant? For example, to merged time series with different frequencies"
   ]
  },
  {
   "cell_type": "markdown",
   "id": "b67446fa-4dcf-403d-b6e0-d11e55e9f8c3",
   "metadata": {
    "tags": [],
    "toc-hr-collapsed": true
   },
   "source": [
    "# Merging time series\n",
    "\n",
    "Client case example (data made availaby by courtesy of Daan Salome) "
   ]
  },
  {
   "cell_type": "code",
   "execution_count": null,
   "id": "9e2aa663-f989-4a7a-b31e-117f8f6ff1a6",
   "metadata": {},
   "outputs": [],
   "source": [
    "# pressurization time\n",
    "pt = pd.read_csv(\"PressurisationSeconds.csv\", index_col=\"_time\", parse_dates=True).sort_index()\n",
    "pt.head()"
   ]
  },
  {
   "cell_type": "code",
   "execution_count": null,
   "id": "6f87e79d-a68f-488a-87fd-372d172ba6ab",
   "metadata": {},
   "outputs": [],
   "source": [
    "pt.info()"
   ]
  },
  {
   "cell_type": "markdown",
   "id": "478d331b-a41f-4438-8673-ff38194895a9",
   "metadata": {},
   "source": [
    "## Side note on Time Zones"
   ]
  },
  {
   "cell_type": "markdown",
   "id": "6cdb761c-d677-45c8-814d-5bb4f773639b",
   "metadata": {},
   "source": [
    "The \"+00:00\" at the end of the timestamp indicate time zone information. We know the time zone is UTC"
   ]
  },
  {
   "cell_type": "code",
   "execution_count": null,
   "id": "29bc0534-e3a3-4b65-b9ff-ff5f5f007ce8",
   "metadata": {},
   "outputs": [],
   "source": [
    "pt.index.tz"
   ]
  },
  {
   "cell_type": "markdown",
   "id": "8bb7f5ca-9fd9-4c64-838f-e50d91b8bba8",
   "metadata": {},
   "source": [
    "To convert a time zone aware pandas object from one time zone to another, you can use the `tz_convert` method."
   ]
  },
  {
   "cell_type": "code",
   "execution_count": null,
   "id": "45936665-9fc9-4b99-992d-cc20d67b889a",
   "metadata": {},
   "outputs": [],
   "source": [
    "pt.index[:4]"
   ]
  },
  {
   "cell_type": "code",
   "execution_count": null,
   "id": "01eff5ad-9217-4670-a77f-6f7ddf5c134a",
   "metadata": {},
   "outputs": [],
   "source": [
    "pt.index.tz_convert(\"US/Eastern\")[:4]"
   ]
  },
  {
   "cell_type": "code",
   "execution_count": null,
   "id": "c8b6f50b-c447-4e20-85e8-91427c2f11ff",
   "metadata": {},
   "outputs": [],
   "source": [
    "pt.index.tz_convert(\"US/Pacific\")[:4]"
   ]
  },
  {
   "cell_type": "code",
   "execution_count": null,
   "id": "1cbe403d-96b2-4c77-9ca7-50ccebfe0892",
   "metadata": {},
   "outputs": [],
   "source": [
    "# convert DF to different TZ\n",
    "pt.tz_convert(\"US/Pacific\").head()"
   ]
  },
  {
   "cell_type": "markdown",
   "id": "4f118011-9022-48f1-a915-4140177205f2",
   "metadata": {},
   "source": [
    "How to strip the TZ information if it annoys us"
   ]
  },
  {
   "cell_type": "code",
   "execution_count": null,
   "id": "dc4af16d-59c8-4967-9b9c-e2e34c6ecc1b",
   "metadata": {},
   "outputs": [],
   "source": [
    "pt = pt.tz_localize(None)\n",
    "pt.head()"
   ]
  },
  {
   "cell_type": "markdown",
   "id": "b39e7f43-e0cb-49f7-a0be-686336225e1d",
   "metadata": {},
   "source": [
    "## Load 2nd Time series"
   ]
  },
  {
   "cell_type": "code",
   "execution_count": null,
   "id": "8329ad1e-0a43-4d44-8d3e-523f983c61e4",
   "metadata": {},
   "outputs": [],
   "source": [
    "loads = pd.read_csv(\"smBpTestStandLoadTest.State.csv\", index_col=\"_time\", parse_dates=True).sort_index()\n",
    "loads = loads.tz_localize(None)\n",
    "loads.head(10)"
   ]
  },
  {
   "cell_type": "markdown",
   "id": "9ea5f0b0-1a0e-4767-b978-c1e054b0bfd3",
   "metadata": {},
   "source": [
    "## Solving for different frequencies\n",
    "How to _align_ the data in second TS on the data in the first TS"
   ]
  },
  {
   "cell_type": "markdown",
   "id": "ca4cb305-8f6d-4e37-8dd9-6ac630e180df",
   "metadata": {},
   "source": [
    "**Reindexing**  is useful in preparation for combining two time series data sets. \n",
    "\n",
    "If data is unavailable for one of the new index dates or times, you must tell pandas how to fill it\n",
    "in. Otherwise, pandas will fill with NaN by default."
   ]
  },
  {
   "cell_type": "code",
   "execution_count": null,
   "id": "0ff975d1-771b-44e4-8af2-130aadc111e7",
   "metadata": {},
   "outputs": [],
   "source": [
    "pt.reindex(loads.index)"
   ]
  },
  {
   "cell_type": "code",
   "execution_count": null,
   "id": "cbca1c5e-f7b5-4115-a521-a5f24adfae74",
   "metadata": {},
   "outputs": [],
   "source": [
    "pt_reindex = pt.reindex(loads.index, method=\"pad\")\n",
    "pt_reindex"
   ]
  },
  {
   "cell_type": "code",
   "execution_count": null,
   "id": "4b3a8a96-b7c9-4142-b833-759a429a6054",
   "metadata": {},
   "outputs": [],
   "source": [
    "# now we can join datasets\n",
    "joined = loads.join(pt_reindex)\n",
    "joined"
   ]
  },
  {
   "cell_type": "markdown",
   "id": "4c060de7-8eb3-4fa8-8e56-80a803257e79",
   "metadata": {},
   "source": [
    "## `merge_asof`"
   ]
  },
  {
   "cell_type": "markdown",
   "id": "5556f279-a88c-4e33-9e49-5d12a5d23578",
   "metadata": {},
   "source": [
    "**Could be viewed as reindex and merge in one operation**\n",
    "\n",
    "Similar to a left-join except that we match on nearest key rather than equal keys.  For each row in the left DataFrame, we select the last row in the right DataFrame whose on key is less than the left’s key. "
   ]
  },
  {
   "cell_type": "code",
   "execution_count": null,
   "id": "4994f905-cf2d-4579-bc69-ee6fb470f0e1",
   "metadata": {},
   "outputs": [],
   "source": [
    "loads.head()"
   ]
  },
  {
   "cell_type": "code",
   "execution_count": null,
   "id": "7d8799b1-6b53-4b75-b42d-84c12d01dafc",
   "metadata": {},
   "outputs": [],
   "source": [
    "pt.head()"
   ]
  },
  {
   "cell_type": "code",
   "execution_count": null,
   "id": "c24c4715-0cb8-45a8-97d1-1c9b561b340d",
   "metadata": {},
   "outputs": [],
   "source": [
    "pd.merge_asof(loads, pt, left_index=True, right_index=True).head()"
   ]
  },
  {
   "cell_type": "markdown",
   "id": "f2e18ac3-26d6-4dba-91df-e8b6874d110d",
   "metadata": {
    "tags": [],
    "toc-hr-collapsed": true
   },
   "source": [
    "# Time series analysis: seasonality, trend and noise"
   ]
  },
  {
   "cell_type": "markdown",
   "id": "47f0741d-1711-4a40-aa8b-8ab00fad29ab",
   "metadata": {},
   "source": [
    "CO2 levels in Mauai Hawaii"
   ]
  },
  {
   "cell_type": "code",
   "execution_count": null,
   "id": "e05c42c7-d415-4ffa-bb6d-5cf8ba3d08e9",
   "metadata": {},
   "outputs": [],
   "source": [
    "co2_levels = pd.read_csv(\"ch2_co2_levels.csv\", index_col=\"datestamp\", parse_dates=True).dropna()\n",
    "co2_levels"
   ]
  },
  {
   "cell_type": "code",
   "execution_count": null,
   "id": "23434e50-e5ed-4e87-89b0-ecf7fb8a5b93",
   "metadata": {},
   "outputs": [],
   "source": [
    "co2_levels.index"
   ]
  },
  {
   "cell_type": "code",
   "execution_count": null,
   "id": "58f46f1a-86a2-446a-9e03-f459d979d46d",
   "metadata": {},
   "outputs": [],
   "source": [
    "co2_levels.plot(title=\"CO2 levels Mauna Loa observatory, Hawaii\");"
   ]
  },
  {
   "cell_type": "markdown",
   "id": "82f34d8d-cc82-484b-81f1-7e73613478fa",
   "metadata": {},
   "source": [
    "## Autocorrelations"
   ]
  },
  {
   "cell_type": "markdown",
   "id": "6b31a311-199c-4128-a102-3785030f21be",
   "metadata": {},
   "source": [
    "Let's manually calculate how auto-correlated our signal is"
   ]
  },
  {
   "cell_type": "code",
   "execution_count": null,
   "id": "adb8dd93-eccd-4a52-b873-9dc58c5feced",
   "metadata": {},
   "outputs": [],
   "source": [
    "# we shift (i.e. delay)  the data in multiples of 1 week\n",
    "shifts = range(1, 8)\n",
    "\n",
    "for ii in shifts:\n",
    "    co2_levels[f\"lag_{ii}\"] = co2_levels[\"co2\"].shift(ii)\n",
    "\n",
    "co2_levels.head(10)"
   ]
  },
  {
   "cell_type": "code",
   "execution_count": null,
   "id": "573545dc-06aa-4001-b086-a02fa32a66fa",
   "metadata": {},
   "outputs": [],
   "source": [
    "co2_levels.plot()"
   ]
  },
  {
   "cell_type": "code",
   "execution_count": null,
   "id": "cccfbb9a-b304-4d9e-b705-334ae18679cf",
   "metadata": {},
   "outputs": [],
   "source": [
    "co2_levels.corr()"
   ]
  },
  {
   "cell_type": "markdown",
   "id": "ed40059a-59f6-4e40-a92a-dc7a23e9bf7c",
   "metadata": {},
   "source": [
    "... and now automatically "
   ]
  },
  {
   "cell_type": "code",
   "execution_count": null,
   "id": "d832b68b-8dab-4f27-bcee-2206374449b4",
   "metadata": {},
   "outputs": [],
   "source": [
    "from statsmodels.graphics import tsaplots\n",
    "tsaplots.plot_acf(co2_levels[\"co2\"], lags=60);"
   ]
  },
  {
   "cell_type": "markdown",
   "id": "5c801dbe-917e-49ee-9cef-6849b3a689be",
   "metadata": {},
   "source": [
    "**Interpret autocorrelation plots**\n",
    "\n",
    "If autocorrelation values are close to O, then values between consecutive observations are not correlated with one another.\n",
    "Inversely, autocorrelations values close to 1 or -1 indicate that there exists strong positive or negative correlations between\n",
    "consecutive observations, respectively.\n",
    "\n",
    "In order to help you asses how trustworthy these autocorrelation values are, the plot-acf() function also returns\n",
    "confidence intervals (represented as blue shaded regions). If an autocorrelation value goes beyond the confidence interval\n",
    "region, you can assume that the observed autocorrelation value is statistically significant."
   ]
  },
  {
   "cell_type": "markdown",
   "id": "eb666b70-5e35-4853-b799-30c334071241",
   "metadata": {
    "tags": []
   },
   "source": [
    "## Time series decomposition"
   ]
  },
  {
   "cell_type": "code",
   "execution_count": null,
   "id": "b63d6d55-86f3-44c2-a2c0-e30f35ac8e24",
   "metadata": {},
   "outputs": [],
   "source": [
    "import statsmodels.api as sm"
   ]
  },
  {
   "cell_type": "markdown",
   "id": "cf9cd0c5-9eea-4090-8b72-79b09253a5c7",
   "metadata": {},
   "source": [
    "`statsmodels` is a Python module that provides classes and functions for the estimation of many different statistical models, as well as for conducting statistical tests, and statistical data\n",
    "exploration."
   ]
  },
  {
   "cell_type": "code",
   "execution_count": null,
   "id": "e47a9f51-2ac1-414f-ab9c-f9e10c65bc8e",
   "metadata": {},
   "outputs": [],
   "source": [
    "decomposition = sm.tsa.seasonal_decompose(co2_levels[\"co2\"])          "
   ]
  },
  {
   "cell_type": "markdown",
   "id": "5331f5b6-20fe-4d14-9e44-d453e910feb9",
   "metadata": {},
   "source": [
    "How to fix the error we've just received"
   ]
  },
  {
   "cell_type": "code",
   "execution_count": null,
   "id": "1ec53ebf-d2b8-4c27-82ab-feba584350fc",
   "metadata": {},
   "outputs": [],
   "source": [
    "co2_levels.index"
   ]
  },
  {
   "cell_type": "code",
   "execution_count": null,
   "id": "d28378a8-346d-4dcb-bbba-4cf6fdc05d37",
   "metadata": {},
   "outputs": [],
   "source": [
    "# built-in pandas attribute not really helpful...\n",
    "co2_levels.index.inferred_freq"
   ]
  },
  {
   "cell_type": "code",
   "execution_count": null,
   "id": "b0ba59dc-7c61-4657-b6d2-c29aa2672576",
   "metadata": {},
   "outputs": [],
   "source": [
    "freqs = co2_levels.index[1:] - co2_levels.index[:-1]\n",
    "freqs"
   ]
  },
  {
   "cell_type": "code",
   "execution_count": null,
   "id": "f327216c-1d73-4596-89b4-5b881df0930f",
   "metadata": {},
   "outputs": [],
   "source": [
    "freqs.value_counts()"
   ]
  },
  {
   "cell_type": "code",
   "execution_count": null,
   "id": "99d43e5b-4a46-426f-8560-082bcc016a53",
   "metadata": {},
   "outputs": [],
   "source": [
    "co2_levels_7d  = co2_levels.asfreq(\"7D\").ffill()"
   ]
  },
  {
   "cell_type": "code",
   "execution_count": null,
   "id": "020c0cbd-c398-462d-baa4-6a23e079657d",
   "metadata": {},
   "outputs": [],
   "source": [
    "co2_levels_7d.index"
   ]
  },
  {
   "cell_type": "code",
   "execution_count": null,
   "id": "065cd93c-02fb-4596-bbc0-e5ae95bedb6b",
   "metadata": {},
   "outputs": [],
   "source": [
    "# Let's try again to decompose the TS\n",
    "decomposition = sm.tsa.seasonal_decompose(co2_levels_7d[\"co2\"])\n",
    "\n",
    "# Temporarily changing plotting params \n",
    "with plt.rc_context({\"figure.figsize\": (11, 9)}):\n",
    "    decomposition.plot()                                      "
   ]
  },
  {
   "cell_type": "markdown",
   "id": "4c0ba291-c1bf-42d8-86f0-2e8028347ebe",
   "metadata": {},
   "source": [
    "The following additive model is fit to the data\n",
    "\n",
    "Y[t] = T[t] + S[t] + e[t]\n",
    "\n",
    "The results are obtained by first estimating the trend by applying a convolution filter to the data. The trend is then removed\n",
    "from the series and the average of this de-trended series for each period is the returned seasonal component."
   ]
  },
  {
   "cell_type": "markdown",
   "id": "76c6ba4d-0959-4135-9e11-3ae99c438d3d",
   "metadata": {},
   "source": [
    "### Extracting components from TS decomposition"
   ]
  },
  {
   "cell_type": "code",
   "execution_count": null,
   "id": "03fc111a-4f5a-4e6b-954e-4a01d554fd39",
   "metadata": {},
   "outputs": [],
   "source": [
    "print(decomposition.seasonal)"
   ]
  },
  {
   "cell_type": "code",
   "execution_count": null,
   "id": "f23ffe99-f1e9-4143-b2cc-f3dad4eaa41a",
   "metadata": {},
   "outputs": [],
   "source": [
    "seas = decomposition.seasonal\n",
    "fig, ax = plt.subplots(figsize=(11,3))\n",
    "seas.plot(ax=ax)\n",
    "ax.set(xlabel=\"Date\",\n",
    "       title=\"Seasonal values of time series\");"
   ]
  },
  {
   "cell_type": "code",
   "execution_count": null,
   "id": "5a0e28c5-0981-4fa9-b0e7-2a7377111366",
   "metadata": {},
   "outputs": [],
   "source": [
    "trend = decomposition.trend\n",
    "fig, ax = plt.subplots(figsize=(11,3))\n",
    "trend.plot(ax=ax)\n",
    "ax.set(xlabel=\"Date\",\n",
    "       title=\"Trend values of time series\");"
   ]
  },
  {
   "cell_type": "markdown",
   "id": "d8037d1e-c28d-4be5-877d-96193a090233",
   "metadata": {},
   "source": [
    "However, the analysis does not **automatically** provide an answer to the question:   **What is the seasonality of my data?**\n",
    "\n",
    "Eyeballing the seasonal pattern, we can visually infer that the time series has annual seasonality with peaks in the month of May/June"
   ]
  },
  {
   "cell_type": "markdown",
   "id": "d3571de1-b2f0-420f-9c8f-1dedede719be",
   "metadata": {
    "jp-MarkdownHeadingCollapsed": true,
    "tags": []
   },
   "source": [
    "_Could we think of an automatic approach to infer the seasonality period?_"
   ]
  },
  {
   "cell_type": "code",
   "execution_count": null,
   "id": "10e90f54-ab72-402e-b293-40623960d94b",
   "metadata": {},
   "outputs": [],
   "source": []
  }
 ],
 "metadata": {
  "kernelspec": {
   "display_name": "Python 3 (ipykernel)",
   "language": "python",
   "name": "python3"
  },
  "language_info": {
   "codemirror_mode": {
    "name": "ipython",
    "version": 3
   },
   "file_extension": ".py",
   "mimetype": "text/x-python",
   "name": "python",
   "nbconvert_exporter": "python",
   "pygments_lexer": "ipython3",
   "version": "3.10.8"
  },
  "toc-autonumbering": false,
  "toc-showcode": false,
  "toc-showmarkdowntxt": false,
  "toc-showtags": false
 },
 "nbformat": 4,
 "nbformat_minor": 5
}
